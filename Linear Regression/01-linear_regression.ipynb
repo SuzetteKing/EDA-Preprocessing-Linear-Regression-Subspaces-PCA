{
 "cells": [
  {
   "cell_type": "code",
   "execution_count": 1,
   "metadata": {},
   "outputs": [],
   "source": [
    "import numpy as np\n",
    "import pandas as pd\n",
    "import matplotlib.pyplot as plt\n",
    "import lrutils\n",
    "from lrutils import generate_data, plot_abline\n",
    "%matplotlib inline\n"
   ]
  },
  {
   "cell_type": "markdown",
   "metadata": {},
   "source": [
    "# Multivariate Linear Regression\n",
    "\n",
    "## Quick refresher\n",
    "\n",
    "The general form of a multivariate regression is\n",
    "\n",
    "$$\n",
    "y \\approx w_{0} +\n",
    "w_{1} x_{1} + w_{2} x_{2} + \\cdots + w_{p}x_p\n",
    "$$\n",
    "\n",
    "where $y$ is the response vector and $x_{1},…,x_{p}$ are the features (covariates). \n",
    "Each of the predictor variables must be numerical. \n",
    "The parameters (coefficients) $w_0,…,w_p$ correspond to the *effect* of each feature after taking account of the effect of all other features in the model. \n",
    "\n",
    "It is convenient to write this in matrix form where all the values of the forecast variable are given in a single equation. \n",
    "\n",
    "$$\n",
    "X = \\left[\\begin{matrix} 1 & x_{1,1} & x_{2,1} & \\dots & x_{p,1}\\\\ 1 & x_{1,2} & x_{2,2} & \\dots & x_{p,2}\\\\ \\vdots & \\vdots & \\vdots & & \\vdots\\\\ 1 & x_{1,n} & x_{2,n} & \\dots & x_{p,n} \\end{matrix}\\right].\n",
    "$$\n",
    "\n",
    "The first column correspond to the intercept ($w_0$) which does not multiply a feature.\n",
    "\n",
    "The problem then becomes one of finding $w\\in\\mathbb R^p$ such that $y\\approx Xw$ or such that\n",
    "\n",
    "$$ L(w) \\quad\\!\\!=\\quad\\!\\! \\|y - Xw\\|_2^2 $$\n",
    "\n",
    "is minimized."
   ]
  },
  {
   "cell_type": "markdown",
   "metadata": {},
   "source": [
    "----------------------"
   ]
  },
  {
   "cell_type": "markdown",
   "metadata": {},
   "source": [
    "## Exercises"
   ]
  },
  {
   "cell_type": "markdown",
   "metadata": {},
   "source": [
    "In what follows, we will make use of the following material, covered in Module 1:\n",
    "\n",
    "* Python functions\n",
    "* Linear algebra: norms, and matrix products.\n",
    "* Optimization (gradient descent).\n",
    "\n"
   ]
  },
  {
   "cell_type": "markdown",
   "metadata": {},
   "source": [
    "We will work on a simple dataset with two variables $x$ and $y$. Have a look at the data (e.g. using a scatterplot)."
   ]
  },
  {
   "cell_type": "code",
   "execution_count": 2,
   "metadata": {
    "scrolled": true
   },
   "outputs": [],
   "source": [
    "# load the data\n",
    "np.random.seed(1000)\n",
    "x, y = generate_data(200)"
   ]
  },
  {
   "cell_type": "code",
   "execution_count": 3,
   "metadata": {},
   "outputs": [
    {
     "data": {
      "text/plain": [
       "<matplotlib.collections.PathCollection at 0x1b3c455bc88>"
      ]
     },
     "execution_count": 3,
     "metadata": {},
     "output_type": "execute_result"
    },
    {
     "data": {
      "image/png": "[encoded data removed]",
      "text/plain": [
       "<Figure size 432x288 with 1 Axes>"
      ]
     },
     "metadata": {},
     "output_type": "display_data"
    }
   ],
   "source": [
    "plt.scatter(x, y)"
   ]
  },
  {
   "cell_type": "markdown",
   "metadata": {},
   "source": [
    "In this example, the linear relationship is evident, though there are a few stray points at the top and at the bootom."
   ]
  },
  {
   "cell_type": "markdown",
   "metadata": {},
   "source": [
    "##### Step 1: Initialise\n",
    "1\\. First initialise $w$ to any array of size $2$.\n",
    "\n",
    "2\\. As explained above, the convention in linear regression is to remove the constant term from the model and make the first column of the data matrix a column of 1s.\n",
    "\n",
    "Using `numpy`, concatenate a column of ones to the data matrix $X$\n",
    "\n",
    "$ X \\leftarrow [\\mathbf{1}\\,\\,\\, X] $\n",
    "\n",
    "<br>\n",
    "<br>\n",
    "Hints for part (2):\n",
    "* First construct a $200 \\times 1$ array of ones. See: `np.ones`\n",
    "* Then concatenate the columns together using `np.hstack`\n",
    "* Both these functions take an argument of tuples, so you'll need to use two sets of brackets.\n",
    "\n",
    "\n"
   ]
  },
  {
   "cell_type": "code",
   "execution_count": 4,
   "metadata": {},
   "outputs": [],
   "source": [
    "#we will initialise w to some value. Because we have a two dimensional matrix of x which is the original one dimensional matrix\n",
    "#concatenated with a vector of 1, we will need a two dimensional y so use for example, zeros from the numpy library.\n",
    "#Then we concantenate that vector of ones on to our matrix x. We can do this using a number of different numpy functions such as\n",
    "#hstack or concatenate, etc. First let us create a vector of ones. This needs to be a tuple instead of just (200, 1) or numpy\n",
    "#will not understand the data type. Of note is the fact that we have a two dimensional array 200 x 1\n",
    "w = np.zeros(2)\n",
    "one = np.ones((200, 1))\n",
    "X = np.hstack((one, x))\n",
    "\n"
   ]
  },
  {
   "cell_type": "code",
   "execution_count": 5,
   "metadata": {},
   "outputs": [
    {
     "data": {
      "text/plain": [
       "array([[ 1.00000000e+00,  7.25743337e+01],\n",
       "       [ 1.00000000e+00, -1.35988891e+01],\n",
       "       [ 1.00000000e+00,  1.20045258e+02],\n",
       "       [ 1.00000000e+00,  4.51506242e+01],\n",
       "       [ 1.00000000e+00,  1.07595926e+02],\n",
       "       [ 1.00000000e+00,  1.97322895e+00],\n",
       "       [ 1.00000000e+00, -2.54864600e+01],\n",
       "       [ 1.00000000e+00,  3.15511138e+01],\n",
       "       [ 1.00000000e+00,  5.30115158e+00],\n",
       "       [ 1.00000000e+00,  1.02678516e+02],\n",
       "       [ 1.00000000e+00,  1.13317510e+00],\n",
       "       [ 1.00000000e+00,  8.67951254e+01],\n",
       "       [ 1.00000000e+00,  3.07446604e+01],\n",
       "       [ 1.00000000e+00, -2.83895681e+00],\n",
       "       [ 1.00000000e+00,  8.69663063e+01],\n",
       "       [ 1.00000000e+00, -2.08668670e+01],\n",
       "       [ 1.00000000e+00,  1.09653953e+02],\n",
       "       [ 1.00000000e+00,  1.20423104e+02],\n",
       "       [ 1.00000000e+00,  1.16982950e+02],\n",
       "       [ 1.00000000e+00,  3.44689525e+01],\n",
       "       [ 1.00000000e+00, -2.73629345e+01],\n",
       "       [ 1.00000000e+00,  1.25124398e+02],\n",
       "       [ 1.00000000e+00,  2.23420294e+01],\n",
       "       [ 1.00000000e+00,  8.10699510e+01],\n",
       "       [ 1.00000000e+00,  2.59003308e+01],\n",
       "       [ 1.00000000e+00, -2.63830563e+01],\n",
       "       [ 1.00000000e+00,  1.04809321e+02],\n",
       "       [ 1.00000000e+00,  7.31605613e+01],\n",
       "       [ 1.00000000e+00,  9.05092791e+01],\n",
       "       [ 1.00000000e+00,  5.66539581e+01],\n",
       "       [ 1.00000000e+00,  1.09614870e+02],\n",
       "       [ 1.00000000e+00,  1.12671618e+02],\n",
       "       [ 1.00000000e+00, -3.03325279e+01],\n",
       "       [ 1.00000000e+00, -2.00709222e+01],\n",
       "       [ 1.00000000e+00,  7.14067356e+00],\n",
       "       [ 1.00000000e+00, -1.06712396e+01],\n",
       "       [ 1.00000000e+00,  7.96680161e+01],\n",
       "       [ 1.00000000e+00,  3.17127814e+01],\n",
       "       [ 1.00000000e+00,  1.09299551e+02],\n",
       "       [ 1.00000000e+00, -3.03879836e+00],\n",
       "       [ 1.00000000e+00,  3.71998675e+01],\n",
       "       [ 1.00000000e+00, -2.90970876e+01],\n",
       "       [ 1.00000000e+00,  7.86300579e+01],\n",
       "       [ 1.00000000e+00,  4.31505043e+01],\n",
       "       [ 1.00000000e+00, -1.14844497e+01],\n",
       "       [ 1.00000000e+00,  1.10613928e+02],\n",
       "       [ 1.00000000e+00,  1.14912580e+02],\n",
       "       [ 1.00000000e+00, -2.03006410e+01],\n",
       "       [ 1.00000000e+00, -2.47283291e+01],\n",
       "       [ 1.00000000e+00,  3.81716633e+01],\n",
       "       [ 1.00000000e+00,  6.42753488e+01],\n",
       "       [ 1.00000000e+00,  1.76363254e+01],\n",
       "       [ 1.00000000e+00,  7.71053187e+01],\n",
       "       [ 1.00000000e+00,  1.44210413e+00],\n",
       "       [ 1.00000000e+00,  5.11366876e+01],\n",
       "       [ 1.00000000e+00,  5.85582129e+01],\n",
       "       [ 1.00000000e+00,  3.85867828e+01],\n",
       "       [ 1.00000000e+00, -9.99101485e+00],\n",
       "       [ 1.00000000e+00,  2.16691058e+00],\n",
       "       [ 1.00000000e+00, -1.06604973e+01],\n",
       "       [ 1.00000000e+00,  1.95674722e+01],\n",
       "       [ 1.00000000e+00,  5.42193843e+00],\n",
       "       [ 1.00000000e+00,  5.23997050e+01],\n",
       "       [ 1.00000000e+00,  5.85553859e+01],\n",
       "       [ 1.00000000e+00,  3.81160456e+01],\n",
       "       [ 1.00000000e+00,  1.94996199e+01],\n",
       "       [ 1.00000000e+00,  5.75425297e+01],\n",
       "       [ 1.00000000e+00,  1.06455293e+02],\n",
       "       [ 1.00000000e+00,  1.03565260e+02],\n",
       "       [ 1.00000000e+00, -1.47492534e+01],\n",
       "       [ 1.00000000e+00,  1.86111174e+01],\n",
       "       [ 1.00000000e+00,  3.35165854e+01],\n",
       "       [ 1.00000000e+00,  7.79342422e+01],\n",
       "       [ 1.00000000e+00,  8.03576460e+01],\n",
       "       [ 1.00000000e+00,  3.93916711e+01],\n",
       "       [ 1.00000000e+00,  3.52515325e+01],\n",
       "       [ 1.00000000e+00,  9.64208946e+01],\n",
       "       [ 1.00000000e+00,  5.41788105e+01],\n",
       "       [ 1.00000000e+00,  1.15760078e+02],\n",
       "       [ 1.00000000e+00, -2.20947940e+01],\n",
       "       [ 1.00000000e+00,  2.68133525e+01],\n",
       "       [ 1.00000000e+00,  1.23263804e+02],\n",
       "       [ 1.00000000e+00,  7.98566317e+01],\n",
       "       [ 1.00000000e+00,  1.10556093e+02],\n",
       "       [ 1.00000000e+00,  8.56843494e+00],\n",
       "       [ 1.00000000e+00,  8.40843369e+01],\n",
       "       [ 1.00000000e+00,  5.59109584e-01],\n",
       "       [ 1.00000000e+00,  5.40018918e+01],\n",
       "       [ 1.00000000e+00,  5.91088060e+00],\n",
       "       [ 1.00000000e+00,  3.78387456e+01],\n",
       "       [ 1.00000000e+00,  9.56839222e+01],\n",
       "       [ 1.00000000e+00,  1.73454664e+01],\n",
       "       [ 1.00000000e+00,  6.74426606e+01],\n",
       "       [ 1.00000000e+00,  3.83436988e+01],\n",
       "       [ 1.00000000e+00,  1.14131793e+02],\n",
       "       [ 1.00000000e+00,  7.33897445e+01],\n",
       "       [ 1.00000000e+00,  7.25810317e+01],\n",
       "       [ 1.00000000e+00,  2.53532453e+01],\n",
       "       [ 1.00000000e+00,  5.16706508e+01],\n",
       "       [ 1.00000000e+00, -2.47860300e+01],\n",
       "       [ 1.00000000e+00, -1.69104541e+01],\n",
       "       [ 1.00000000e+00,  1.15457951e+02],\n",
       "       [ 1.00000000e+00, -2.03128798e+01],\n",
       "       [ 1.00000000e+00,  1.16706777e+02],\n",
       "       [ 1.00000000e+00,  8.27224219e+01],\n",
       "       [ 1.00000000e+00,  6.75696873e+01],\n",
       "       [ 1.00000000e+00,  8.87983543e+01],\n",
       "       [ 1.00000000e+00, -9.33281457e+00],\n",
       "       [ 1.00000000e+00,  9.50115516e+01],\n",
       "       [ 1.00000000e+00,  8.40645040e+01],\n",
       "       [ 1.00000000e+00,  5.46302849e+01],\n",
       "       [ 1.00000000e+00,  4.52135189e+01],\n",
       "       [ 1.00000000e+00,  4.42364177e+01],\n",
       "       [ 1.00000000e+00,  3.93652529e+01],\n",
       "       [ 1.00000000e+00,  9.85712100e+01],\n",
       "       [ 1.00000000e+00,  1.18962389e+01],\n",
       "       [ 1.00000000e+00, -2.20860788e+01],\n",
       "       [ 1.00000000e+00,  1.21647415e+02],\n",
       "       [ 1.00000000e+00,  4.12989008e+01],\n",
       "       [ 1.00000000e+00,  8.92627303e+01],\n",
       "       [ 1.00000000e+00,  7.69853764e+01],\n",
       "       [ 1.00000000e+00,  5.46844681e+01],\n",
       "       [ 1.00000000e+00, -1.07468017e+01],\n",
       "       [ 1.00000000e+00,  8.51290157e+00],\n",
       "       [ 1.00000000e+00,  3.90168949e+01],\n",
       "       [ 1.00000000e+00,  5.73999851e+01],\n",
       "       [ 1.00000000e+00,  9.82182967e+01],\n",
       "       [ 1.00000000e+00,  1.88525338e+01],\n",
       "       [ 1.00000000e+00,  3.15272149e+01],\n",
       "       [ 1.00000000e+00,  1.10426920e+02],\n",
       "       [ 1.00000000e+00,  1.00066593e+02],\n",
       "       [ 1.00000000e+00, -1.49300667e+01],\n",
       "       [ 1.00000000e+00, -6.43585991e+00],\n",
       "       [ 1.00000000e+00,  7.21950894e+01],\n",
       "       [ 1.00000000e+00,  5.90502742e+01],\n",
       "       [ 1.00000000e+00,  1.25453388e+02],\n",
       "       [ 1.00000000e+00,  8.78654420e+01],\n",
       "       [ 1.00000000e+00,  9.63839409e+01],\n",
       "       [ 1.00000000e+00,  4.52958080e+00],\n",
       "       [ 1.00000000e+00,  5.09941514e+01],\n",
       "       [ 1.00000000e+00,  6.88173445e+01],\n",
       "       [ 1.00000000e+00, -3.16503422e+01],\n",
       "       [ 1.00000000e+00,  5.01143625e+01],\n",
       "       [ 1.00000000e+00,  3.98704270e+01],\n",
       "       [ 1.00000000e+00,  2.38970161e+01],\n",
       "       [ 1.00000000e+00,  1.17890015e+01],\n",
       "       [ 1.00000000e+00,  1.12333258e+02],\n",
       "       [ 1.00000000e+00, -2.70440864e+01],\n",
       "       [ 1.00000000e+00,  1.98670544e+01],\n",
       "       [ 1.00000000e+00,  1.38548396e+01],\n",
       "       [ 1.00000000e+00,  1.21141773e+02],\n",
       "       [ 1.00000000e+00, -2.93547094e+01],\n",
       "       [ 1.00000000e+00,  4.11717877e+01],\n",
       "       [ 1.00000000e+00,  1.99897274e+01],\n",
       "       [ 1.00000000e+00,  7.94341434e+01],\n",
       "       [ 1.00000000e+00,  7.88399620e+01],\n",
       "       [ 1.00000000e+00,  7.72233711e+01],\n",
       "       [ 1.00000000e+00,  1.10740873e+02],\n",
       "       [ 1.00000000e+00,  1.19292480e+02],\n",
       "       [ 1.00000000e+00, -1.89107959e+01],\n",
       "       [ 1.00000000e+00, -1.32977247e+01],\n",
       "       [ 1.00000000e+00, -2.61009652e+01],\n",
       "       [ 1.00000000e+00,  1.15806433e+02],\n",
       "       [ 1.00000000e+00,  1.25104127e+02],\n",
       "       [ 1.00000000e+00,  2.82600405e+01],\n",
       "       [ 1.00000000e+00, -2.18438388e+01],\n",
       "       [ 1.00000000e+00, -1.15429659e+01],\n",
       "       [ 1.00000000e+00,  1.08782220e+02],\n",
       "       [ 1.00000000e+00,  4.06477016e+01],\n",
       "       [ 1.00000000e+00, -8.14300491e-02],\n",
       "       [ 1.00000000e+00,  6.81650995e+01],\n",
       "       [ 1.00000000e+00,  9.22287049e+01],\n",
       "       [ 1.00000000e+00,  4.23277110e+01],\n",
       "       [ 1.00000000e+00, -2.55413091e+01],\n",
       "       [ 1.00000000e+00,  2.78241856e+01],\n",
       "       [ 1.00000000e+00,  1.06706952e+02],\n",
       "       [ 1.00000000e+00, -1.54871157e+01],\n",
       "       [ 1.00000000e+00, -1.39982208e+01],\n",
       "       [ 1.00000000e+00,  9.28214401e+01],\n",
       "       [ 1.00000000e+00, -1.03921879e+01],\n",
       "       [ 1.00000000e+00, -1.14306445e+01],\n",
       "       [ 1.00000000e+00,  6.48050799e+00],\n",
       "       [ 1.00000000e+00,  1.46897280e+01],\n",
       "       [ 1.00000000e+00,  2.13178360e+01],\n",
       "       [ 1.00000000e+00,  9.47462426e+01],\n",
       "       [ 1.00000000e+00,  7.09550843e+00],\n",
       "       [ 1.00000000e+00, -1.51384223e+01],\n",
       "       [ 1.00000000e+00, -1.32670846e+01],\n",
       "       [ 1.00000000e+00,  2.54961801e+01],\n",
       "       [ 1.00000000e+00,  5.43045254e+00],\n",
       "       [ 1.00000000e+00,  1.00500836e+02],\n",
       "       [ 1.00000000e+00,  6.57260237e+01],\n",
       "       [ 1.00000000e+00,  1.43985111e+01],\n",
       "       [ 1.00000000e+00,  1.27590158e+02],\n",
       "       [ 1.00000000e+00,  3.50786722e+01],\n",
       "       [ 1.00000000e+00,  1.11155631e+02],\n",
       "       [ 1.00000000e+00,  1.41193863e+01],\n",
       "       [ 1.00000000e+00,  1.81511876e+01],\n",
       "       [ 1.00000000e+00,  1.24889833e+02],\n",
       "       [ 1.00000000e+00, -1.77381010e+01]])"
      ]
     },
     "execution_count": 5,
     "metadata": {},
     "output_type": "execute_result"
    }
   ],
   "source": [
    "X"
   ]
  },
  {
   "cell_type": "markdown",
   "metadata": {},
   "source": [
    "##### Step 2: Predicted Values\n",
    "Create a function that outputs the predicted values $\\hat{y}$ given the current value of $w$.\n",
    "\n",
    "Recall that $\\hat{y} = Xw$"
   ]
  },
  {
   "cell_type": "code",
   "execution_count": 6,
   "metadata": {},
   "outputs": [],
   "source": [
    "def predicted_values(w, X):\n",
    "    # calculate y_pred\n",
    "    y_pred = X @ w           #@ is the matrix multiplication symbol or we could write np.dot(X, w)\n",
    "    return y_pred"
   ]
  },
  {
   "cell_type": "markdown",
   "metadata": {},
   "source": [
    "##### Step 3: Loss Function\n",
    "Create a function that calulates the current loss of our predictions $\\hat{y} = Xw$ using the squared $L_2$ norm."
   ]
  },
  {
   "cell_type": "code",
   "execution_count": 7,
   "metadata": {},
   "outputs": [],
   "source": [
    "def loss_function(w, X, y):\n",
    "    # calculate the residual r = y_hat - y\n",
    "    y_hat = predicted_values(w, X)\n",
    "    r = y - y_hat\n",
    "    \n",
    "    # calculate the squared norm, or the sum of squares of `r`.\n",
    "    # You can code this directly, or use the norm functions\n",
    "    # discussed in module 1.\n",
    "    #several ways to write this:\n",
    "    #loss = np.linalg.norm(y - y_hat)**2 \n",
    "    #loss = np.sum(q**2 for q in r)\n",
    "    #loss = np.linalg.norm(r)**2\n",
    "    loss = np.sum(r**2)\n",
    "    return loss"
   ]
  },
  {
   "cell_type": "code",
   "execution_count": 8,
   "metadata": {},
   "outputs": [
    {
     "data": {
      "text/plain": [
       "array([0., 0., 0., 0., 0., 0., 0., 0., 0., 0., 0., 0., 0., 0., 0., 0., 0.,\n",
       "       0., 0., 0., 0., 0., 0., 0., 0., 0., 0., 0., 0., 0., 0., 0., 0., 0.,\n",
       "       0., 0., 0., 0., 0., 0., 0., 0., 0., 0., 0., 0., 0., 0., 0., 0., 0.,\n",
       "       0., 0., 0., 0., 0., 0., 0., 0., 0., 0., 0., 0., 0., 0., 0., 0., 0.,\n",
       "       0., 0., 0., 0., 0., 0., 0., 0., 0., 0., 0., 0., 0., 0., 0., 0., 0.,\n",
       "       0., 0., 0., 0., 0., 0., 0., 0., 0., 0., 0., 0., 0., 0., 0., 0., 0.,\n",
       "       0., 0., 0., 0., 0., 0., 0., 0., 0., 0., 0., 0., 0., 0., 0., 0., 0.,\n",
       "       0., 0., 0., 0., 0., 0., 0., 0., 0., 0., 0., 0., 0., 0., 0., 0., 0.,\n",
       "       0., 0., 0., 0., 0., 0., 0., 0., 0., 0., 0., 0., 0., 0., 0., 0., 0.,\n",
       "       0., 0., 0., 0., 0., 0., 0., 0., 0., 0., 0., 0., 0., 0., 0., 0., 0.,\n",
       "       0., 0., 0., 0., 0., 0., 0., 0., 0., 0., 0., 0., 0., 0., 0., 0., 0.,\n",
       "       0., 0., 0., 0., 0., 0., 0., 0., 0., 0., 0., 0., 0.])"
      ]
     },
     "execution_count": 8,
     "metadata": {},
     "output_type": "execute_result"
    }
   ],
   "source": [
    "#let us check that some og those equations work\n",
    "predicted_values(w, X)"
   ]
  },
  {
   "cell_type": "code",
   "execution_count": 9,
   "metadata": {},
   "outputs": [
    {
     "data": {
      "text/plain": [
       "array([ 73.57433367, -12.5988891 , 121.0452583 ,  46.15062423,\n",
       "       108.59592563,   2.97322895, -24.48646004,  32.55111382,\n",
       "         6.30115158, 103.67851588,   2.1331751 ,  87.79512537,\n",
       "        31.74466045,  -1.83895681,  87.96630633, -19.86686704,\n",
       "       110.6539527 , 121.42310388, 117.98294955,  35.46895249,\n",
       "       -26.3629345 , 126.12439754,  23.34202938,  82.06995102,\n",
       "        26.90033082, -25.38305633, 105.80932052,  74.1605613 ,\n",
       "        91.50927906,  57.65395808, 110.61486986, 113.67161846,\n",
       "       -29.33252791, -19.07092222,   8.14067356,  -9.67123961,\n",
       "        80.66801607,  32.71278136, 110.29955062,  -2.03879836,\n",
       "        38.19986749, -28.09708756,  79.63005787,  44.15050433,\n",
       "       -10.48444966, 111.61392821, 115.91257992, -19.30064101,\n",
       "       -23.72832908,  39.17166332,  65.27534878,  18.63632543,\n",
       "        78.10531872,   2.44210413,  52.13668756,  59.55821289,\n",
       "        39.58678281,  -8.99101485,   3.16691058,  -9.66049726,\n",
       "        20.56747224,   6.42193843,  53.39970496,  59.55538592,\n",
       "        39.11604557,  20.49961985,  58.54252971, 107.45529299,\n",
       "       104.56526038, -13.74925344,  19.61111744,  34.51658541,\n",
       "        78.93424223,  81.357646  ,  40.39167106,  36.2515325 ,\n",
       "        97.42089457,  55.17881045, 116.76007831, -21.09479404,\n",
       "        27.81335253, 124.26380359,  80.85663174, 111.55609279,\n",
       "         9.56843494,  85.08433693,   1.55910958,  55.0018918 ,\n",
       "         6.9108806 ,  38.83874556,  96.68392216,  18.34546637,\n",
       "        68.44266056,  39.34369882, 115.13179287,  74.3897445 ,\n",
       "        73.5810317 ,  26.35324534,  52.67065075, -23.78603003,\n",
       "       -15.9104541 , 116.45795089, -19.31287978, 117.70677673,\n",
       "        83.72242194,  68.56968732,  89.79835426,  -8.33281457,\n",
       "        96.01155163,  85.06450398,  55.6302849 ,  46.21351891,\n",
       "        45.23641766,  40.36525287,  99.57120999,  12.89623894,\n",
       "       -21.08607877, 122.64741467,  42.29890079,  90.26273031,\n",
       "        77.98537645,  55.68446812,  -9.74680167,   9.51290157,\n",
       "        40.01689489,  58.39998507,  99.21829674,  19.8525338 ,\n",
       "        32.52721491, 111.42691973, 101.06659325, -13.93006672,\n",
       "        -5.43585991,  73.19508938,  60.05027416, 126.45338772,\n",
       "        88.86544203,  97.38394094,   5.5295808 ,  51.99415135,\n",
       "        69.8173445 , -30.65034217,  51.11436251,  40.87042701,\n",
       "        24.89701606,  12.7890015 , 113.33325849, -26.0440864 ,\n",
       "        20.86705437,  14.85483962, 122.14177258, -28.35470943,\n",
       "        42.17178772,  20.98972736,  80.43414336,  79.83996199,\n",
       "        78.22337108, 111.74087328, 120.29248046, -17.91079594,\n",
       "       -12.29772471, -25.10096524, 116.80643298, 126.10412679,\n",
       "        29.26004053, -20.84383883, -10.54296589, 109.78221999,\n",
       "        41.64770157,   0.91856995,  69.16509949,  93.22870488,\n",
       "        43.32771105, -24.54130915,  28.82418555, 107.7069516 ,\n",
       "       -14.48711567, -12.99822085,  93.82144014,  -9.39218791,\n",
       "       -10.43064446,   7.48050799,  15.68972795,  22.31783601,\n",
       "        95.74624258,   8.09550843, -14.13842235, -12.26708456,\n",
       "        26.49618006,   6.43045254, 101.50083621,  66.7260237 ,\n",
       "        15.39851112, 128.59015822,  36.07867223, 112.15563111,\n",
       "        15.11938631,  19.15118756, 125.88983316, -16.73810097])"
      ]
     },
     "execution_count": 9,
     "metadata": {},
     "output_type": "execute_result"
    }
   ],
   "source": [
    "#let us test with ones\n",
    "predicted_values(np.ones(2), X)"
   ]
  },
  {
   "cell_type": "code",
   "execution_count": 10,
   "metadata": {},
   "outputs": [
    {
     "data": {
      "text/plain": [
       "675435.220830736"
      ]
     },
     "execution_count": 10,
     "metadata": {},
     "output_type": "execute_result"
    }
   ],
   "source": [
    "#let us also test the loss function\n",
    "loss_function(np.ones(2), X, y)"
   ]
  },
  {
   "cell_type": "markdown",
   "metadata": {},
   "source": [
    "##### Step 4: Gradient\n",
    "Recall that the gradient of our function is (after some algebraic manipulation):\n",
    "\n",
    "$$ \\nabla_w L \\quad\\!\\!=\\quad\\!\\! -X^T (y - Xw) \\quad\\!\\!=\\quad\\!\\! -X^T r $$\n",
    "\n",
    "for residuals $r$. Create a function that returns the gradient for a given value of $w$ (and $X$ and $y$).\n"
   ]
  },
  {
   "cell_type": "code",
   "execution_count": 11,
   "metadata": {},
   "outputs": [],
   "source": [
    "def gradient(w, X, y):\n",
    "    y_hat = predicted_values(w, X)\n",
    "    r = y - y_hat\n",
    "    grad = -X.T @ r\n",
    "    return grad"
   ]
  },
  {
   "cell_type": "markdown",
   "metadata": {},
   "source": [
    "##### Step 5: Optimise!\n",
    "Using the SimpleGD function from Module 1, perform 1000 steps of gradient descent and plot the evolution of the function values returned.\n",
    "\n",
    "We've included a slightly modified version of the gradient descent function as we are now performing optimisation of a *vector* quantity rather than a scalar quantity, and we will just return the final value of the variable rather than all the intermediate ones.\n",
    "\n",
    "We recommend using a very small step size to begin with: try $\\gamma = 10^{-6}$.\n",
    "\n",
    "Hint: if your loss increases towards $\\infty$, try resetting $w$ and reducing the stepsize.\n",
    "\n",
    "<span style=\"color:red\"><b>Warning: If you have generated data with n > 200, you will need to decrease the step size from our recommendation, perhaps significantly.</b></span>"
   ]
  },
  {
   "cell_type": "code",
   "execution_count": 12,
   "metadata": {},
   "outputs": [],
   "source": [
    "#Let us see what some of these arguments represent. remember here we are optimising over a multivariate while previous we were\n",
    "#optimising over a scalar. \n",
    "#the parameters of the simpleGD function:\n",
    "#x0 is the starting value of the parameter that we are optimising, secondly we have\n",
    "#f which is the function f that defines the objective that we are optimising. This is used to see how our objective values change\n",
    "#over time. \n",
    "#g is the gradient function which calculates in the direction in which we take a step. \n",
    "#gamma is the step size which is how far we travel in the direction of the gradient\n",
    "#nr_steps is the number of steps\n",
    "\n",
    "#you can see that we have almost everything for the simpleGD function, however, we do not have f and g\n",
    "#so in this case x0 will be our current value of zero\n",
    "#and our simpleGD function will spit out a partially optimised w\n",
    "#so as far as this optimisation function is concerned, the only thing you care about is w\n",
    "#the fact that we have x and y as input to our function as we saw in the previous codes will cause confusion, because it is \n",
    "#trying to input the values to f and g as we can see here\n",
    "#so we need to create wrappers for these functions that always pass in the values of x and y that are in the environment\n",
    "#these are created in the codes below as lossXy and gradient_Xy\n",
    "\n",
    "\n",
    "# Modified simpleGD function\n",
    "def simpleGD(x0, f, g, gamma, nr_steps):\n",
    "    history = np.zeros(nr_steps+1)\n",
    "    history[0] = f(x0)\n",
    "    x = x0\n",
    "    for ii in range(nr_steps):\n",
    "        # this formulation amounts to writing x = x - stepsize*g(x)\n",
    "        x -= gamma*g(x)\n",
    "        history[ii+1] = f(x)\n",
    "    return x, history"
   ]
  },
  {
   "cell_type": "code",
   "execution_count": 13,
   "metadata": {},
   "outputs": [],
   "source": [
    "# create versions of your loss and gradient functions that only require `w` as an input\n",
    "# (hint: you might want to use a lambda function.)\n",
    "\n",
    "loss_Xy = lambda w: loss_function(w, X, y)\n",
    "gradient_Xy = lambda w: gradient(w, X, y)"
   ]
  },
  {
   "cell_type": "code",
   "execution_count": 14,
   "metadata": {},
   "outputs": [],
   "source": [
    "# Perform gradient descent on your loss function, \n",
    "# w, history = simpleGD(...\n",
    "w, history = simpleGD(w, loss_Xy, gradient_Xy, 1e-6, 1000)\n"
   ]
  },
  {
   "cell_type": "markdown",
   "metadata": {},
   "source": [
    "##### Step 6: Optimisation Diagnostics\n",
    "Plot the history of your loss over your iterates. \n",
    "* Does it decrease or increase? \n",
    "    * If increasing, reset your $w$ and optimize again with a smaller step size.\n",
    "    * If this doesn't fix the issue, you may have a bug in your code.\n",
    "* How quickly does it decrease?\n",
    "* Does it look like it's converging?\n",
    "* [**Question**] How might you speed up the convergence?\n",
    "\n",
    "Hint: be *very* careful when increasing the step size!"
   ]
  },
  {
   "cell_type": "code",
   "execution_count": 15,
   "metadata": {},
   "outputs": [
    {
     "data": {
      "text/plain": [
       "[<matplotlib.lines.Line2D at 0x1b3c47407f0>]"
      ]
     },
     "execution_count": 15,
     "metadata": {},
     "output_type": "execute_result"
    },
    {
     "data": {
      "image/png": "[encoded data removed]",
      "text/plain": [
       "<Figure size 432x288 with 1 Axes>"
      ]
     },
     "metadata": {},
     "output_type": "display_data"
    }
   ],
   "source": [
    "plt.plot(history)\n"
   ]
  },
  {
   "cell_type": "code",
   "execution_count": 16,
   "metadata": {},
   "outputs": [
    {
     "data": {
      "text/plain": [
       "[<matplotlib.lines.Line2D at 0x1b3c4efc2e8>]"
      ]
     },
     "execution_count": 16,
     "metadata": {},
     "output_type": "execute_result"
    },
    {
     "data": {
      "image/png": "[encoded data removed]",
      "text/plain": [
       "<Figure size 432x288 with 1 Axes>"
      ]
     },
     "metadata": {},
     "output_type": "display_data"
    }
   ],
   "source": [
    "#notice that the does not converge, increasing the step size to 50,000 shows improved convergence\n",
    "\n",
    "w, history = simpleGD(w, loss_Xy, gradient_Xy, 1e-6, 50000)\n",
    "plt.plot(history)"
   ]
  },
  {
   "cell_type": "markdown",
   "metadata": {},
   "source": [
    "##### Step 7: Review the model fit\n",
    "Plot your predictions against the data.\n",
    "\n",
    "* Create a scatterplot of the original data points (see above for an example).\n",
    "* Using the below function, draw the regression fit.\n",
    "* How well does the regression line fit the data?\n",
    "* Is this a problem with the optimisation or the model? Try performing a few '000s more iterations."
   ]
  },
  {
   "cell_type": "code",
   "execution_count": 17,
   "metadata": {},
   "outputs": [
    {
     "data": {
      "image/png": "[encoded data removed]",
      "text/plain": [
       "<Figure size 432x288 with 1 Axes>"
      ]
     },
     "metadata": {},
     "output_type": "display_data"
    }
   ],
   "source": [
    "plt.scatter(x, y)\n",
    "plot_abline(w[1], w[0], '--', color='red')\n",
    "# plot_regression_line(w)"
   ]
  },
  {
   "cell_type": "markdown",
   "metadata": {},
   "source": [
    "All being well, you should have a line fitting your data reasonably well. If so, congratulations, you've coded up your first machine learning algorithm!\n",
    "\n",
    "Notice that while we've applied this algorithm to a 2D dataset, in principle it can be applied to a dataset of any dimension. If you have time, consider trying again with the data generated from:\n",
    "\n",
    "```python\n",
    "np.random.seed(3)\n",
    "x, y = lrutils.generate_data3d(200)\n",
    "```\n",
    "Be aware that your `x` variable now has *two* columns."
   ]
  }
 ],
 "metadata": {
  "kernelspec": {
   "display_name": "Python 3",
   "language": "python",
   "name": "python3"
  },
  "language_info": {
   "codemirror_mode": {
    "name": "ipython",
    "version": 3
   },
   "file_extension": ".py",
   "mimetype": "text/x-python",
   "name": "python",
   "nbconvert_exporter": "python",
   "pygments_lexer": "ipython3",
   "version": "3.6.5"
  }
 },
 "nbformat": 4,
 "nbformat_minor": 2
}
